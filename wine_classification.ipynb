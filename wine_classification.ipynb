{
 "cells": [
  {
   "cell_type": "code",
   "execution_count": 4,
   "metadata": {
    "collapsed": true
   },
   "outputs": [],
   "source": [
    "import torch\n",
    "import random\n",
    "import numpy as np\n",
    "import sklearn.datasets\n",
    "random.seed(0)\n",
    "np.random.seed(0)\n",
    "torch.manual_seed(0)\n",
    "torch.cuda.manual_seed(0)"
   ]
  },
  {
   "cell_type": "code",
   "execution_count": 5,
   "outputs": [
    {
     "data": {
      "text/plain": "(178, 13)"
     },
     "execution_count": 5,
     "metadata": {},
     "output_type": "execute_result"
    }
   ],
   "source": [
    "wine = sklearn.datasets.load_wine()\n",
    "wine.data.shape"
   ],
   "metadata": {
    "collapsed": false,
    "pycharm": {
     "name": "#%%\n"
    }
   }
  },
  {
   "cell_type": "code",
   "execution_count": 7,
   "outputs": [],
   "source": [
    "from sklearn.model_selection import train_test_split\n",
    "\n",
    "X_train, X_test, y_train, y_test = train_test_split(\n",
    "    wine.data[:, :2],\n",
    "    wine.target,\n",
    "    test_size=0.3,\n",
    "    shuffle=True\n",
    ")\n",
    "\n",
    "X_train = torch.FloatTensor(X_train)\n",
    "X_test = torch.FloatTensor(X_test)\n",
    "y_train = torch.LongTensor(y_train)\n",
    "y_test = torch.LongTensor(y_test)"
   ],
   "metadata": {
    "collapsed": false,
    "pycharm": {
     "name": "#%%\n"
    }
   }
  },
  {
   "cell_type": "code",
   "execution_count": 8,
   "outputs": [],
   "source": [
    "class WineNet(torch.nn.Module):\n",
    "    def __init__(self, n_hidden_neurons):\n",
    "        super(WineNet,self).__init__()\n",
    "        self.fc1 = torch.nn.Linear(2,n_hidden_neurons)\n",
    "        self.act1 = torch.nn.Sigmoid()\n",
    "        self.fc2 = torch.nn.Linear(n_hidden_neurons, n_hidden_neurons)\n",
    "        self.act2 = torch.nn.Sigmoid()\n",
    "        self.fc3 = torch.nn.Linear(n_hidden_neurons,3)\n",
    "        self.sm = torch.nn.Softmax(dim=1)\n",
    "\n",
    "    def forward(self,x):\n",
    "        x = self.fc1(x)\n",
    "        x = self.act1(x)\n",
    "        x=self.fc2(x)\n",
    "        x = self.act2(x)\n",
    "        x = self.fc3(x)\n",
    "        return x\n",
    "\n",
    "    def inference(self, x):\n",
    "        x = self.forward(x)\n",
    "        x = self.sm(x)\n",
    "        return x\n",
    "\n",
    "wine_net = WineNet(5)"
   ],
   "metadata": {
    "collapsed": false,
    "pycharm": {
     "name": "#%%\n"
    }
   }
  },
  {
   "cell_type": "code",
   "execution_count": 9,
   "outputs": [],
   "source": [
    "loss = torch.nn.CrossEntropyLoss()\n",
    "\n",
    "optimizer = torch.optim.Adam(wine_net.parameters(), lr = 1.0e-3)"
   ],
   "metadata": {
    "collapsed": false,
    "pycharm": {
     "name": "#%%\n"
    }
   }
  },
  {
   "cell_type": "code",
   "execution_count": 11,
   "outputs": [
    {
     "data": {
      "text/plain": "array([4, 3, 0, 1, 2])"
     },
     "execution_count": 11,
     "metadata": {},
     "output_type": "execute_result"
    }
   ],
   "source": [
    "np.random.permutation(5)"
   ],
   "metadata": {
    "collapsed": false,
    "pycharm": {
     "name": "#%%\n"
    }
   }
  },
  {
   "cell_type": "code",
   "execution_count": 12,
   "outputs": [
    {
     "name": "stdout",
     "output_type": "stream",
     "text": [
      "tensor(0.5185)\n",
      "tensor(0.5370)\n",
      "tensor(0.3889)\n",
      "tensor(0.3889)\n",
      "tensor(0.3889)\n",
      "tensor(0.4074)\n",
      "tensor(0.3889)\n",
      "tensor(0.3889)\n",
      "tensor(0.4074)\n",
      "tensor(0.3889)\n",
      "tensor(0.4259)\n",
      "tensor(0.3889)\n",
      "tensor(0.4259)\n",
      "tensor(0.4259)\n",
      "tensor(0.4259)\n",
      "tensor(0.4259)\n",
      "tensor(0.4259)\n",
      "tensor(0.4259)\n",
      "tensor(0.4259)\n",
      "tensor(0.5741)\n",
      "tensor(0.5741)\n",
      "tensor(0.6296)\n",
      "tensor(0.6481)\n",
      "tensor(0.6481)\n",
      "tensor(0.6667)\n",
      "tensor(0.6852)\n",
      "tensor(0.6852)\n",
      "tensor(0.6852)\n",
      "tensor(0.7037)\n",
      "tensor(0.7407)\n",
      "tensor(0.7593)\n",
      "tensor(0.7778)\n",
      "tensor(0.7963)\n",
      "tensor(0.7778)\n",
      "tensor(0.7778)\n",
      "tensor(0.7963)\n",
      "tensor(0.7963)\n",
      "tensor(0.7963)\n",
      "tensor(0.7778)\n",
      "tensor(0.7963)\n",
      "tensor(0.7963)\n",
      "tensor(0.7778)\n",
      "tensor(0.7963)\n",
      "tensor(0.7963)\n",
      "tensor(0.8148)\n",
      "tensor(0.8333)\n",
      "tensor(0.8519)\n",
      "tensor(0.8333)\n",
      "tensor(0.8333)\n",
      "tensor(0.8519)\n",
      "tensor(0.8889)\n",
      "tensor(0.8889)\n",
      "tensor(0.8333)\n",
      "tensor(0.8704)\n",
      "tensor(0.8704)\n",
      "tensor(0.8704)\n",
      "tensor(0.8704)\n",
      "tensor(0.8704)\n",
      "tensor(0.8704)\n",
      "tensor(0.8704)\n",
      "tensor(0.8704)\n",
      "tensor(0.8704)\n",
      "tensor(0.8889)\n",
      "tensor(0.8889)\n",
      "tensor(0.8889)\n",
      "tensor(0.8889)\n",
      "tensor(0.8889)\n",
      "tensor(0.8889)\n",
      "tensor(0.8519)\n",
      "tensor(0.8889)\n",
      "tensor(0.8704)\n",
      "tensor(0.8889)\n",
      "tensor(0.8704)\n",
      "tensor(0.8889)\n",
      "tensor(0.8889)\n",
      "tensor(0.8704)\n",
      "tensor(0.8704)\n",
      "tensor(0.8704)\n",
      "tensor(0.8889)\n",
      "tensor(0.8704)\n",
      "tensor(0.8704)\n",
      "tensor(0.8704)\n",
      "tensor(0.8704)\n",
      "tensor(0.8704)\n",
      "tensor(0.8704)\n",
      "tensor(0.8704)\n",
      "tensor(0.8704)\n",
      "tensor(0.8704)\n",
      "tensor(0.8704)\n",
      "tensor(0.8704)\n",
      "tensor(0.8704)\n",
      "tensor(0.8704)\n",
      "tensor(0.8704)\n",
      "tensor(0.8704)\n",
      "tensor(0.8704)\n",
      "tensor(0.8704)\n",
      "tensor(0.8704)\n",
      "tensor(0.8704)\n",
      "tensor(0.8704)\n",
      "tensor(0.8704)\n"
     ]
    }
   ],
   "source": [
    "batch_size = 10\n",
    "\n",
    "for epoch in range(10000):\n",
    "    order = np.random.permutation(len(X_train))\n",
    "    for start_index in range(0, len(X_train), batch_size):\n",
    "        optimizer.zero_grad()\n",
    "\n",
    "        batch_indexes = order[start_index:start_index+batch_size]\n",
    "\n",
    "        x_batch = X_train[batch_indexes]\n",
    "        y_batch = y_train[batch_indexes]\n",
    "\n",
    "        preds = wine_net.forward(x_batch)\n",
    "\n",
    "        loss_val = loss(preds, y_batch)\n",
    "        loss_val.backward()\n",
    "\n",
    "        optimizer.step()\n",
    "\n",
    "    if epoch % 100 == 0:\n",
    "        test_preds = wine_net.forward(X_test)\n",
    "        test_preds = test_preds.argmax(dim=1)\n",
    "        print((test_preds==y_test).float().mean())"
   ],
   "metadata": {
    "collapsed": false,
    "pycharm": {
     "name": "#%%\n"
    }
   }
  },
  {
   "cell_type": "code",
   "execution_count": 13,
   "outputs": [
    {
     "name": "stderr",
     "output_type": "stream",
     "text": [
      "C:\\Users\\9787\\anaconda3\\lib\\site-packages\\torch\\functional.py:445: UserWarning: torch.meshgrid: in an upcoming release, it will be required to pass the indexing argument. (Triggered internally at  ..\\aten\\src\\ATen\\native\\TensorShape.cpp:2157.)\n",
      "  return _VF.meshgrid(tensors, **kwargs)  # type: ignore[attr-defined]\n",
      "<ipython-input-13-4ffbf2cfa672>:25: UserWarning: Creating a tensor from a list of numpy.ndarrays is extremely slow. Please consider converting the list to a single numpy.ndarray with numpy.array() before converting to a tensor. (Triggered internally at  ..\\torch\\csrc\\utils\\tensor_new.cpp:201.)\n",
      "  plt.scatter(X_train[indexes, 0],\n"
     ]
    },
    {
     "data": {
      "text/plain": "<Figure size 720x576 with 1 Axes>",
      "image/png": "[encoded data removed]"
     },
     "metadata": {
      "needs_background": "light"
     },
     "output_type": "display_data"
    }
   ],
   "source": [
    "import matplotlib.pyplot as plt\n",
    "%matplotlib inline\n",
    "\n",
    "plt.rcParams['figure.figsize'] = (10, 8)\n",
    "\n",
    "n_classes = 3\n",
    "plot_colors = ['g', 'orange', 'black']\n",
    "plot_step = 0.02\n",
    "\n",
    "x_min, x_max = X_train[:, 0].min() - 1, X_train[:, 0].max() + 1\n",
    "y_min, y_max = X_train[:, 1].min() - 1, X_train[:, 1].max() + 1\n",
    "\n",
    "xx, yy =  torch.meshgrid(torch.arange(x_min, x_max, plot_step),\n",
    "                         torch.arange(y_min, y_max, plot_step))\n",
    "\n",
    "preds = wine_net.inference(\n",
    "    torch.cat([xx.reshape(-1, 1), yy.reshape(-1, 1)], dim=1))\n",
    "\n",
    "preds_class = preds.data.numpy().argmax(axis=1)\n",
    "preds_class = preds_class.reshape(xx.shape)\n",
    "plt.contourf(xx, yy, preds_class, cmap='Accent')\n",
    "\n",
    "for i, color in zip(range(n_classes), plot_colors):\n",
    "    indexes = np.where(y_train == i)\n",
    "    plt.scatter(X_train[indexes, 0],\n",
    "                X_train[indexes, 1],\n",
    "                c=color,\n",
    "                label=wine.target_names[i],\n",
    "                cmap='Accent')\n",
    "    plt.xlabel(wine.feature_names[0])\n",
    "    plt.ylabel(wine.feature_names[1])\n",
    "    plt.legend()"
   ],
   "metadata": {
    "collapsed": false,
    "pycharm": {
     "name": "#%%\n"
    }
   }
  },
  {
   "cell_type": "code",
   "execution_count": null,
   "outputs": [],
   "source": [],
   "metadata": {
    "collapsed": false,
    "pycharm": {
     "name": "#%%\n"
    }
   }
  }
 ],
 "metadata": {
  "kernelspec": {
   "display_name": "Python 3",
   "language": "python",
   "name": "python3"
  },
  "language_info": {
   "codemirror_mode": {
    "name": "ipython",
    "version": 2
   },
   "file_extension": ".py",
   "mimetype": "text/x-python",
   "name": "python",
   "nbconvert_exporter": "python",
   "pygments_lexer": "ipython2",
   "version": "2.7.6"
  }
 },
 "nbformat": 4,
 "nbformat_minor": 0
}